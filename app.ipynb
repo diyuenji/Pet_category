{
 "cells": [
  {
   "cell_type": "code",
   "execution_count": 131,
   "metadata": {},
   "outputs": [],
   "source": [
    "from fastai.vision.all import *\n",
    "\n",
    "from fastbook import *\n",
    "\n",
    "import gradio as gr\n",
    "\n",
    "import pathlib\n",
    "temp = pathlib.PosixPath\n",
    "pathlib.PosixPath = pathlib.WindowsPath"
   ]
  },
  {
   "cell_type": "code",
   "execution_count": 113,
   "metadata": {},
   "outputs": [],
   "source": [
    "\n",
    "learn1 =load_learner('resnet34_model.pkl')\n",
    "learn2 =load_learner('resnet34_model2.pkl') \n",
    "learn3 =load_learner('convnext_model.pkl') \n",
    "learn4 =load_learner('convnext_model2.pkl') "
   ]
  },
  {
   "cell_type": "code",
   "execution_count": 144,
   "metadata": {},
   "outputs": [],
   "source": [
    "\n",
    "categories1 = learn1.dls.vocab\n",
    "\n",
    "def classify_img1(img):\n",
    "    pred,idx,probs = learn1.predict(img)\n",
    "    return dict(zip(categories1, map(float,probs)))"
   ]
  },
  {
   "cell_type": "code",
   "execution_count": 134,
   "metadata": {},
   "outputs": [],
   "source": [
    "\n",
    "categories2 = learn2.dls.vocab\n",
    "\n",
    "def classify_img2(img):\n",
    "    pred,idx,probs = learn2.predict(img)\n",
    "    return dict(zip(categories2, map(float,probs)))"
   ]
  },
  {
   "cell_type": "code",
   "execution_count": 135,
   "metadata": {},
   "outputs": [],
   "source": [
    "\n",
    "categories3 = learn3.dls.vocab\n",
    "\n",
    "def classify_img3(img):\n",
    "    pred,idx,probs = learn3.predict(img)\n",
    "    return dict(zip(categories3, map(float,probs)))"
   ]
  },
  {
   "cell_type": "code",
   "execution_count": 136,
   "metadata": {},
   "outputs": [],
   "source": [
    "\n",
    "categories4 = learn4.dls.vocab\n",
    "\n",
    "def classify_img4(img):\n",
    "    pred,idx,probs = learn4.predict(img)\n",
    "    return dict(zip(categories4, map(float,probs)))"
   ]
  },
  {
   "cell_type": "code",
   "execution_count": 118,
   "metadata": {},
   "outputs": [],
   "source": [
    "im = PILImage.create('bulldog.jpeg')\n",
    "# im.thumbnail((224,224))"
   ]
  },
  {
   "cell_type": "code",
   "execution_count": 119,
   "metadata": {},
   "outputs": [
    {
     "data": {
      "text/html": [
       "\n",
       "<style>\n",
       "    /* Turns off some styling */\n",
       "    progress {\n",
       "        /* gets rid of default border in Firefox and Opera. */\n",
       "        border: none;\n",
       "        /* Needs to be in here for Safari polyfill so background images work as expected. */\n",
       "        background-size: auto;\n",
       "    }\n",
       "    progress:not([value]), progress:not([value])::-webkit-progress-bar {\n",
       "        background: repeating-linear-gradient(45deg, #7e7e7e, #7e7e7e 10px, #5c5c5c 10px, #5c5c5c 20px);\n",
       "    }\n",
       "    .progress-bar-interrupted, .progress-bar-interrupted::-webkit-progress-bar {\n",
       "        background: #F44336;\n",
       "    }\n",
       "</style>\n"
      ],
      "text/plain": [
       "<IPython.core.display.HTML object>"
      ]
     },
     "metadata": {},
     "output_type": "display_data"
    },
    {
     "data": {
      "text/html": [
       "\n",
       "    <div>\n",
       "      <progress value='0' class='' max='1' style='width:300px; height:20px; vertical-align: middle;'></progress>\n",
       "      0.00% [0/1 00:00&lt;?]\n",
       "    </div>\n",
       "    "
      ],
      "text/plain": [
       "<IPython.core.display.HTML object>"
      ]
     },
     "metadata": {},
     "output_type": "display_data"
    },
    {
     "data": {
      "text/plain": [
       "{'Abyssinian': 3.1098541512619704e-05,\n",
       " 'Bengal': 0.00011974682274740189,\n",
       " 'Birman': 4.837023516301997e-05,\n",
       " 'Bombay': 0.001043627504259348,\n",
       " 'British_Shorthair': 7.999995432328433e-05,\n",
       " 'Egyptian_Mau': 5.446784052764997e-05,\n",
       " 'Maine_Coon': 9.530610896035796e-07,\n",
       " 'Persian': 0.0001323554024565965,\n",
       " 'Ragdoll': 5.314754162100144e-06,\n",
       " 'Russian_Blue': 7.75510761741316e-06,\n",
       " 'Siamese': 1.0561288036115002e-05,\n",
       " 'Sphynx': 0.16674552857875824,\n",
       " 'american_bulldog': 0.3470093905925751,\n",
       " 'american_pit_bull_terrier': 0.18512912094593048,\n",
       " 'basset_hound': 3.6590896343113855e-05,\n",
       " 'beagle': 5.2076673455303535e-05,\n",
       " 'boxer': 0.009239734150469303,\n",
       " 'chihuahua': 0.27002331614494324,\n",
       " 'english_cocker_spaniel': 5.141550718690269e-05,\n",
       " 'english_setter': 1.6988004063023254e-05,\n",
       " 'german_shorthaired': 2.6898558644461446e-05,\n",
       " 'great_pyrenees': 2.6905201593763195e-05,\n",
       " 'havanese': 4.665643791668117e-05,\n",
       " 'japanese_chin': 2.0429413780220784e-05,\n",
       " 'keeshond': 1.0680370905902237e-05,\n",
       " 'leonberger': 5.994934781483607e-06,\n",
       " 'miniature_pinscher': 0.0014696447178721428,\n",
       " 'newfoundland': 7.306850602617487e-05,\n",
       " 'pomeranian': 1.4510032997350208e-05,\n",
       " 'pug': 0.0009897828567773104,\n",
       " 'saint_bernard': 0.0003105715150013566,\n",
       " 'samoyed': 0.0001024512603180483,\n",
       " 'scottish_terrier': 0.007511382922530174,\n",
       " 'shiba_inu': 0.0001687669864622876,\n",
       " 'staffordshire_bull_terrier': 0.009253834374248981,\n",
       " 'wheaten_terrier': 3.3994238037848845e-05,\n",
       " 'yorkshire_terrier': 9.596159361535683e-05}"
      ]
     },
     "execution_count": 119,
     "metadata": {},
     "output_type": "execute_result"
    }
   ],
   "source": [
    "classify_img1(im)"
   ]
  },
  {
   "cell_type": "code",
   "execution_count": 120,
   "metadata": {},
   "outputs": [
    {
     "data": {
      "text/html": [
       "\n",
       "<style>\n",
       "    /* Turns off some styling */\n",
       "    progress {\n",
       "        /* gets rid of default border in Firefox and Opera. */\n",
       "        border: none;\n",
       "        /* Needs to be in here for Safari polyfill so background images work as expected. */\n",
       "        background-size: auto;\n",
       "    }\n",
       "    progress:not([value]), progress:not([value])::-webkit-progress-bar {\n",
       "        background: repeating-linear-gradient(45deg, #7e7e7e, #7e7e7e 10px, #5c5c5c 10px, #5c5c5c 20px);\n",
       "    }\n",
       "    .progress-bar-interrupted, .progress-bar-interrupted::-webkit-progress-bar {\n",
       "        background: #F44336;\n",
       "    }\n",
       "</style>\n"
      ],
      "text/plain": [
       "<IPython.core.display.HTML object>"
      ]
     },
     "metadata": {},
     "output_type": "display_data"
    },
    {
     "data": {
      "text/html": [],
      "text/plain": [
       "<IPython.core.display.HTML object>"
      ]
     },
     "metadata": {},
     "output_type": "display_data"
    },
    {
     "data": {
      "text/plain": [
       "{'Abyssinian': 5.350159335648641e-05,\n",
       " 'Bengal': 0.0005697320448234677,\n",
       " 'Birman': 7.573087259515887e-06,\n",
       " 'Bombay': 0.0004722861631307751,\n",
       " 'British_Shorthair': 9.786952432477847e-05,\n",
       " 'Egyptian_Mau': 6.089817907195538e-05,\n",
       " 'Maine_Coon': 5.073396459920332e-05,\n",
       " 'Persian': 0.0019425128120929003,\n",
       " 'Ragdoll': 0.00010242171993013471,\n",
       " 'Russian_Blue': 0.0002783165837172419,\n",
       " 'Siamese': 0.00039857716183178127,\n",
       " 'Sphynx': 0.3973100185394287,\n",
       " 'american_bulldog': 0.06868018209934235,\n",
       " 'american_pit_bull_terrier': 0.0011177909327670932,\n",
       " 'basset_hound': 2.3806258468539454e-05,\n",
       " 'beagle': 4.300691944081336e-05,\n",
       " 'boxer': 0.013488559983670712,\n",
       " 'chihuahua': 0.4461933374404907,\n",
       " 'english_cocker_spaniel': 7.314544200198725e-05,\n",
       " 'english_setter': 0.00026141174021176994,\n",
       " 'german_shorthaired': 2.1315769117791206e-05,\n",
       " 'great_pyrenees': 6.096906872699037e-05,\n",
       " 'havanese': 0.00025634971098043025,\n",
       " 'japanese_chin': 0.0010948247509077191,\n",
       " 'keeshond': 6.640263745794073e-05,\n",
       " 'leonberger': 5.829958809044911e-06,\n",
       " 'miniature_pinscher': 0.0020234305411577225,\n",
       " 'newfoundland': 3.466666839813115e-06,\n",
       " 'pomeranian': 0.00011286843800917268,\n",
       " 'pug': 0.0487651452422142,\n",
       " 'saint_bernard': 0.0001709487842163071,\n",
       " 'samoyed': 0.00010283229494234547,\n",
       " 'scottish_terrier': 0.0009354717913083732,\n",
       " 'shiba_inu': 0.0005875552305951715,\n",
       " 'staffordshire_bull_terrier': 0.014303023926913738,\n",
       " 'wheaten_terrier': 0.0001040202405420132,\n",
       " 'yorkshire_terrier': 0.00015992119733709842}"
      ]
     },
     "execution_count": 120,
     "metadata": {},
     "output_type": "execute_result"
    }
   ],
   "source": [
    "classify_img3(im)"
   ]
  },
  {
   "cell_type": "code",
   "execution_count": 121,
   "metadata": {},
   "outputs": [],
   "source": [
    "examples = ['dog.jpg','chihuahua.jpg','bulldog.jpeg','sphynx.jpeg']"
   ]
  },
  {
   "cell_type": "code",
   "execution_count": 160,
   "metadata": {},
   "outputs": [
    {
     "name": "stdout",
     "output_type": "stream",
     "text": [
      "Running on local URL:  http://127.0.0.1:7916\n",
      "\n",
      "To create a public link, set `share=True` in `launch()`.\n"
     ]
    },
    {
     "data": {
      "text/plain": []
     },
     "execution_count": 160,
     "metadata": {},
     "output_type": "execute_result"
    }
   ],
   "source": [
    "# model resnet34 train on lap\n",
    "image1 = gr.Image()\n",
    "label1 = gr.Label()\n",
    "\n",
    "intf1= gr.Interface(fn = classify_img1, inputs = image1, outputs =label1, examples = examples)\n",
    "intf1.launch(inline = False)\n"
   ]
  },
  {
   "cell_type": "code",
   "execution_count": 161,
   "metadata": {},
   "outputs": [
    {
     "name": "stdout",
     "output_type": "stream",
     "text": [
      "Running on local URL:  http://127.0.0.1:7917\n",
      "\n",
      "To create a public link, set `share=True` in `launch()`.\n"
     ]
    },
    {
     "data": {
      "text/plain": []
     },
     "execution_count": 161,
     "metadata": {},
     "output_type": "execute_result"
    }
   ],
   "source": [
    "# model resnet34 train on kaggle\n",
    "image2 = gr.Image()\n",
    "label2 = gr.Label()\n",
    "\n",
    "intf2= gr.Interface(fn = classify_img2, inputs = image2, outputs =label2, examples = examples)\n",
    "intf2.launch(inline = False)"
   ]
  },
  {
   "cell_type": "code",
   "execution_count": 162,
   "metadata": {},
   "outputs": [
    {
     "name": "stdout",
     "output_type": "stream",
     "text": [
      "Running on local URL:  http://127.0.0.1:7918\n",
      "\n",
      "To create a public link, set `share=True` in `launch()`.\n"
     ]
    },
    {
     "data": {
      "text/plain": []
     },
     "execution_count": 162,
     "metadata": {},
     "output_type": "execute_result"
    }
   ],
   "source": [
    "# model convnext train on lap\n",
    "image3 = gr.Image()\n",
    "label3 = gr.Label()\n",
    "\n",
    "intf3= gr.Interface(fn = classify_img3, inputs = image3, outputs =label3, examples = examples)\n",
    "intf3.launch(inline = False)"
   ]
  },
  {
   "cell_type": "code",
   "execution_count": null,
   "metadata": {},
   "outputs": [
    {
     "name": "stdout",
     "output_type": "stream",
     "text": [
      "Running on local URL:  http://127.0.0.1:7919\n",
      "\n",
      "To create a public link, set `share=True` in `launch()`.\n"
     ]
    },
    {
     "data": {
      "text/plain": []
     },
     "execution_count": 163,
     "metadata": {},
     "output_type": "execute_result"
    },
    {
     "data": {
      "text/html": [
       "\n",
       "<style>\n",
       "    /* Turns off some styling */\n",
       "    progress {\n",
       "        /* gets rid of default border in Firefox and Opera. */\n",
       "        border: none;\n",
       "        /* Needs to be in here for Safari polyfill so background images work as expected. */\n",
       "        background-size: auto;\n",
       "    }\n",
       "    progress:not([value]), progress:not([value])::-webkit-progress-bar {\n",
       "        background: repeating-linear-gradient(45deg, #7e7e7e, #7e7e7e 10px, #5c5c5c 10px, #5c5c5c 20px);\n",
       "    }\n",
       "    .progress-bar-interrupted, .progress-bar-interrupted::-webkit-progress-bar {\n",
       "        background: #F44336;\n",
       "    }\n",
       "</style>\n"
      ],
      "text/plain": [
       "<IPython.core.display.HTML object>"
      ]
     },
     "metadata": {},
     "output_type": "display_data"
    },
    {
     "data": {
      "text/html": [],
      "text/plain": [
       "<IPython.core.display.HTML object>"
      ]
     },
     "metadata": {},
     "output_type": "display_data"
    },
    {
     "data": {
      "text/html": [
       "\n",
       "<style>\n",
       "    /* Turns off some styling */\n",
       "    progress {\n",
       "        /* gets rid of default border in Firefox and Opera. */\n",
       "        border: none;\n",
       "        /* Needs to be in here for Safari polyfill so background images work as expected. */\n",
       "        background-size: auto;\n",
       "    }\n",
       "    progress:not([value]), progress:not([value])::-webkit-progress-bar {\n",
       "        background: repeating-linear-gradient(45deg, #7e7e7e, #7e7e7e 10px, #5c5c5c 10px, #5c5c5c 20px);\n",
       "    }\n",
       "    .progress-bar-interrupted, .progress-bar-interrupted::-webkit-progress-bar {\n",
       "        background: #F44336;\n",
       "    }\n",
       "</style>\n"
      ],
      "text/plain": [
       "<IPython.core.display.HTML object>"
      ]
     },
     "metadata": {},
     "output_type": "display_data"
    },
    {
     "data": {
      "text/html": [],
      "text/plain": [
       "<IPython.core.display.HTML object>"
      ]
     },
     "metadata": {},
     "output_type": "display_data"
    },
    {
     "data": {
      "text/html": [
       "\n",
       "<style>\n",
       "    /* Turns off some styling */\n",
       "    progress {\n",
       "        /* gets rid of default border in Firefox and Opera. */\n",
       "        border: none;\n",
       "        /* Needs to be in here for Safari polyfill so background images work as expected. */\n",
       "        background-size: auto;\n",
       "    }\n",
       "    progress:not([value]), progress:not([value])::-webkit-progress-bar {\n",
       "        background: repeating-linear-gradient(45deg, #7e7e7e, #7e7e7e 10px, #5c5c5c 10px, #5c5c5c 20px);\n",
       "    }\n",
       "    .progress-bar-interrupted, .progress-bar-interrupted::-webkit-progress-bar {\n",
       "        background: #F44336;\n",
       "    }\n",
       "</style>\n"
      ],
      "text/plain": [
       "<IPython.core.display.HTML object>"
      ]
     },
     "metadata": {},
     "output_type": "display_data"
    },
    {
     "data": {
      "text/html": [],
      "text/plain": [
       "<IPython.core.display.HTML object>"
      ]
     },
     "metadata": {},
     "output_type": "display_data"
    },
    {
     "data": {
      "text/html": [
       "\n",
       "<style>\n",
       "    /* Turns off some styling */\n",
       "    progress {\n",
       "        /* gets rid of default border in Firefox and Opera. */\n",
       "        border: none;\n",
       "        /* Needs to be in here for Safari polyfill so background images work as expected. */\n",
       "        background-size: auto;\n",
       "    }\n",
       "    progress:not([value]), progress:not([value])::-webkit-progress-bar {\n",
       "        background: repeating-linear-gradient(45deg, #7e7e7e, #7e7e7e 10px, #5c5c5c 10px, #5c5c5c 20px);\n",
       "    }\n",
       "    .progress-bar-interrupted, .progress-bar-interrupted::-webkit-progress-bar {\n",
       "        background: #F44336;\n",
       "    }\n",
       "</style>\n"
      ],
      "text/plain": [
       "<IPython.core.display.HTML object>"
      ]
     },
     "metadata": {},
     "output_type": "display_data"
    },
    {
     "data": {
      "text/html": [],
      "text/plain": [
       "<IPython.core.display.HTML object>"
      ]
     },
     "metadata": {},
     "output_type": "display_data"
    }
   ],
   "source": [
    "# model convnext train on kaggle\n",
    "image4 = gr.Image()\n",
    "label4 = gr.Label()\n",
    "\n",
    "intf4= gr.Interface(fn = classify_img4, inputs = image4, outputs =label4, examples = examples)\n",
    "intf4.launch(inline = False)"
   ]
  }
 ],
 "metadata": {
  "kernelspec": {
   "display_name": "Python 3",
   "language": "python",
   "name": "python3"
  },
  "language_info": {
   "codemirror_mode": {
    "name": "ipython",
    "version": 3
   },
   "file_extension": ".py",
   "mimetype": "text/x-python",
   "name": "python",
   "nbconvert_exporter": "python",
   "pygments_lexer": "ipython3",
   "version": "3.8.5"
  },
  "orig_nbformat": 4
 },
 "nbformat": 4,
 "nbformat_minor": 2
}
